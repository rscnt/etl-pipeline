{
 "cells": [
  {
   "cell_type": "markdown",
   "metadata": {
    "toc": true
   },
   "source": [
    "<h1>Table of Contents<span class=\"tocSkip\"></span></h1>\n",
    "<div class=\"toc\"><ul class=\"toc-item\"><li><span><a href=\"#Preprocessing\" data-toc-modified-id=\"Preprocessing-1\"><span class=\"toc-item-num\">1&nbsp;&nbsp;</span>Preprocessing</a></span></li><li><span><a href=\"#Method-2\" data-toc-modified-id=\"Method-2-2\"><span class=\"toc-item-num\">2&nbsp;&nbsp;</span>Method 2</a></span></li><li><span><a href=\"#Method-3\" data-toc-modified-id=\"Method-3-3\"><span class=\"toc-item-num\">3&nbsp;&nbsp;</span>Method 3</a></span><ul class=\"toc-item\"><li><span><a href=\"#MA-of-daily-tests\" data-toc-modified-id=\"MA-of-daily-tests-3.1\"><span class=\"toc-item-num\">3.1&nbsp;&nbsp;</span>MA of daily tests</a></span></li><li><span><a href=\"#Daily-case-positivity\" data-toc-modified-id=\"Daily-case-positivity-3.2\"><span class=\"toc-item-num\">3.2&nbsp;&nbsp;</span>Daily case positivity</a></span></li><li><span><a href=\"#Percent-case-growth\" data-toc-modified-id=\"Percent-case-growth-3.3\"><span class=\"toc-item-num\">3.3&nbsp;&nbsp;</span>Percent case growth</a></span></li></ul></li><li><span><a href=\"#Save-output-CSV\" data-toc-modified-id=\"Save-output-CSV-4\"><span class=\"toc-item-num\">4&nbsp;&nbsp;</span>Save output CSV</a></span></li></ul></div>"
   ]
  },
  {
   "cell_type": "markdown",
   "metadata": {},
   "source": [
    "### Preprocessing"
   ]
  },
  {
   "cell_type": "markdown",
   "metadata": {},
   "source": [
    "We first get the latest data by running the `extract_history.py` script"
   ]
  },
  {
   "cell_type": "code",
   "execution_count": 1,
   "metadata": {},
   "outputs": [
    {
     "name": "stdout",
     "output_type": "stream",
     "text": [
      "INFO - Reading YAML\n",
      "INFO - Fetching JSON from URL\n",
      "INFO - Parsed JSON\n",
      "INFO - Reading states and districts\n",
      "INFO - Extracting data for State: MH\n",
      "INFO - Appending State data\n",
      "INFO - Writing data to output file\n",
      "INFO - Output file created: /Users/saurabhjogalekar/swb/swb-ief/etl-pipeline/data_pipeline/output/city_stats.csv\n",
      "INFO - Index(['Mumbai.total.confirmed', 'Mumbai.total.deceased',\n",
      "       'Mumbai.total.recovered', 'Mumbai.delta.confirmed',\n",
      "       'Mumbai.delta.deceased', 'Mumbai.delta.recovered',\n",
      "       'Mumbai.delta.tested', 'Mumbai.total.tested', 'Mumbai.delta.other',\n",
      "       'Mumbai.total.other'],\n",
      "      dtype='object')\n"
     ]
    }
   ],
   "source": [
    "!python3 extract_history.py"
   ]
  },
  {
   "cell_type": "markdown",
   "metadata": {},
   "source": [
    "Read the output as a dataframe"
   ]
  },
  {
   "cell_type": "code",
   "execution_count": 2,
   "metadata": {},
   "outputs": [],
   "source": [
    "import pandas as pd"
   ]
  },
  {
   "cell_type": "code",
   "execution_count": 21,
   "metadata": {},
   "outputs": [],
   "source": [
    "df = pd.read_csv(\"output/city_stats.csv\")"
   ]
  },
  {
   "cell_type": "code",
   "execution_count": 22,
   "metadata": {},
   "outputs": [],
   "source": [
    "df.index = df[\"Unnamed: 0\"]\n",
    "df.index = pd.to_datetime(df.index)\n",
    "df.drop(\"Unnamed: 0\", axis=1, inplace=True)"
   ]
  },
  {
   "cell_type": "code",
   "execution_count": 23,
   "metadata": {
    "scrolled": true
   },
   "outputs": [
    {
     "data": {
      "text/html": [
       "<div>\n",
       "<style scoped>\n",
       "    .dataframe tbody tr th:only-of-type {\n",
       "        vertical-align: middle;\n",
       "    }\n",
       "\n",
       "    .dataframe tbody tr th {\n",
       "        vertical-align: top;\n",
       "    }\n",
       "\n",
       "    .dataframe thead th {\n",
       "        text-align: right;\n",
       "    }\n",
       "</style>\n",
       "<table border=\"1\" class=\"dataframe\">\n",
       "  <thead>\n",
       "    <tr style=\"text-align: right;\">\n",
       "      <th></th>\n",
       "      <th>Mumbai.total.confirmed</th>\n",
       "      <th>Mumbai.total.deceased</th>\n",
       "      <th>Mumbai.total.recovered</th>\n",
       "      <th>Mumbai.delta.confirmed</th>\n",
       "      <th>Mumbai.delta.deceased</th>\n",
       "      <th>Mumbai.delta.recovered</th>\n",
       "      <th>Mumbai.delta.tested</th>\n",
       "      <th>Mumbai.total.tested</th>\n",
       "      <th>Mumbai.delta.other</th>\n",
       "      <th>Mumbai.total.other</th>\n",
       "    </tr>\n",
       "    <tr>\n",
       "      <th>Unnamed: 0</th>\n",
       "      <th></th>\n",
       "      <th></th>\n",
       "      <th></th>\n",
       "      <th></th>\n",
       "      <th></th>\n",
       "      <th></th>\n",
       "      <th></th>\n",
       "      <th></th>\n",
       "      <th></th>\n",
       "      <th></th>\n",
       "    </tr>\n",
       "  </thead>\n",
       "  <tbody>\n",
       "    <tr>\n",
       "      <th>2020-08-26</th>\n",
       "      <td>139537.0</td>\n",
       "      <td>7505.0</td>\n",
       "      <td>112743.0</td>\n",
       "      <td>1854.0</td>\n",
       "      <td>28.0</td>\n",
       "      <td>781.0</td>\n",
       "      <td>19076.0</td>\n",
       "      <td>734619.0</td>\n",
       "      <td>4.0</td>\n",
       "      <td>310.0</td>\n",
       "    </tr>\n",
       "    <tr>\n",
       "      <th>2020-08-27</th>\n",
       "      <td>140888.0</td>\n",
       "      <td>7535.0</td>\n",
       "      <td>113577.0</td>\n",
       "      <td>1351.0</td>\n",
       "      <td>30.0</td>\n",
       "      <td>834.0</td>\n",
       "      <td>9266.0</td>\n",
       "      <td>743885.0</td>\n",
       "      <td>3.0</td>\n",
       "      <td>313.0</td>\n",
       "    </tr>\n",
       "    <tr>\n",
       "      <th>2020-08-28</th>\n",
       "      <td>142108.0</td>\n",
       "      <td>7565.0</td>\n",
       "      <td>114818.0</td>\n",
       "      <td>1220.0</td>\n",
       "      <td>30.0</td>\n",
       "      <td>1241.0</td>\n",
       "      <td>NaN</td>\n",
       "      <td>743885.0</td>\n",
       "      <td>5.0</td>\n",
       "      <td>318.0</td>\n",
       "    </tr>\n",
       "    <tr>\n",
       "      <th>2020-08-29</th>\n",
       "      <td>143389.0</td>\n",
       "      <td>7596.0</td>\n",
       "      <td>115500.0</td>\n",
       "      <td>1281.0</td>\n",
       "      <td>31.0</td>\n",
       "      <td>682.0</td>\n",
       "      <td>NaN</td>\n",
       "      <td>743885.0</td>\n",
       "      <td>4.0</td>\n",
       "      <td>322.0</td>\n",
       "    </tr>\n",
       "    <tr>\n",
       "      <th>2020-08-30</th>\n",
       "      <td>143389.0</td>\n",
       "      <td>7596.0</td>\n",
       "      <td>115500.0</td>\n",
       "      <td>NaN</td>\n",
       "      <td>NaN</td>\n",
       "      <td>NaN</td>\n",
       "      <td>NaN</td>\n",
       "      <td>743885.0</td>\n",
       "      <td>NaN</td>\n",
       "      <td>322.0</td>\n",
       "    </tr>\n",
       "  </tbody>\n",
       "</table>\n",
       "</div>"
      ],
      "text/plain": [
       "            Mumbai.total.confirmed  Mumbai.total.deceased  \\\n",
       "Unnamed: 0                                                  \n",
       "2020-08-26                139537.0                 7505.0   \n",
       "2020-08-27                140888.0                 7535.0   \n",
       "2020-08-28                142108.0                 7565.0   \n",
       "2020-08-29                143389.0                 7596.0   \n",
       "2020-08-30                143389.0                 7596.0   \n",
       "\n",
       "            Mumbai.total.recovered  Mumbai.delta.confirmed  \\\n",
       "Unnamed: 0                                                   \n",
       "2020-08-26                112743.0                  1854.0   \n",
       "2020-08-27                113577.0                  1351.0   \n",
       "2020-08-28                114818.0                  1220.0   \n",
       "2020-08-29                115500.0                  1281.0   \n",
       "2020-08-30                115500.0                     NaN   \n",
       "\n",
       "            Mumbai.delta.deceased  Mumbai.delta.recovered  \\\n",
       "Unnamed: 0                                                  \n",
       "2020-08-26                   28.0                   781.0   \n",
       "2020-08-27                   30.0                   834.0   \n",
       "2020-08-28                   30.0                  1241.0   \n",
       "2020-08-29                   31.0                   682.0   \n",
       "2020-08-30                    NaN                     NaN   \n",
       "\n",
       "            Mumbai.delta.tested  Mumbai.total.tested  Mumbai.delta.other  \\\n",
       "Unnamed: 0                                                                 \n",
       "2020-08-26              19076.0             734619.0                 4.0   \n",
       "2020-08-27               9266.0             743885.0                 3.0   \n",
       "2020-08-28                  NaN             743885.0                 5.0   \n",
       "2020-08-29                  NaN             743885.0                 4.0   \n",
       "2020-08-30                  NaN             743885.0                 NaN   \n",
       "\n",
       "            Mumbai.total.other  \n",
       "Unnamed: 0                      \n",
       "2020-08-26               310.0  \n",
       "2020-08-27               313.0  \n",
       "2020-08-28               318.0  \n",
       "2020-08-29               322.0  \n",
       "2020-08-30               322.0  "
      ]
     },
     "execution_count": 23,
     "metadata": {},
     "output_type": "execute_result"
    }
   ],
   "source": [
    "df.tail()"
   ]
  },
  {
   "cell_type": "markdown",
   "metadata": {},
   "source": [
    "### Method 2\n",
    "\n",
    "Find Levitt metrics for Mumbai"
   ]
  },
  {
   "cell_type": "code",
   "execution_count": 24,
   "metadata": {},
   "outputs": [],
   "source": [
    "df[\"Mumbai.total.deceased.shift\"] = df[\"Mumbai.total.deceased\"].shift(1)"
   ]
  },
  {
   "cell_type": "code",
   "execution_count": 25,
   "metadata": {},
   "outputs": [
    {
     "data": {
      "text/html": [
       "<div>\n",
       "<style scoped>\n",
       "    .dataframe tbody tr th:only-of-type {\n",
       "        vertical-align: middle;\n",
       "    }\n",
       "\n",
       "    .dataframe tbody tr th {\n",
       "        vertical-align: top;\n",
       "    }\n",
       "\n",
       "    .dataframe thead th {\n",
       "        text-align: right;\n",
       "    }\n",
       "</style>\n",
       "<table border=\"1\" class=\"dataframe\">\n",
       "  <thead>\n",
       "    <tr style=\"text-align: right;\">\n",
       "      <th></th>\n",
       "      <th>Mumbai.total.confirmed</th>\n",
       "      <th>Mumbai.total.deceased</th>\n",
       "      <th>Mumbai.total.recovered</th>\n",
       "      <th>Mumbai.delta.confirmed</th>\n",
       "      <th>Mumbai.delta.deceased</th>\n",
       "      <th>Mumbai.delta.recovered</th>\n",
       "      <th>Mumbai.delta.tested</th>\n",
       "      <th>Mumbai.total.tested</th>\n",
       "      <th>Mumbai.delta.other</th>\n",
       "      <th>Mumbai.total.other</th>\n",
       "      <th>Mumbai.total.deceased.shift</th>\n",
       "    </tr>\n",
       "    <tr>\n",
       "      <th>Unnamed: 0</th>\n",
       "      <th></th>\n",
       "      <th></th>\n",
       "      <th></th>\n",
       "      <th></th>\n",
       "      <th></th>\n",
       "      <th></th>\n",
       "      <th></th>\n",
       "      <th></th>\n",
       "      <th></th>\n",
       "      <th></th>\n",
       "      <th></th>\n",
       "    </tr>\n",
       "  </thead>\n",
       "  <tbody>\n",
       "    <tr>\n",
       "      <th>2020-08-26</th>\n",
       "      <td>139537.0</td>\n",
       "      <td>7505.0</td>\n",
       "      <td>112743.0</td>\n",
       "      <td>1854.0</td>\n",
       "      <td>28.0</td>\n",
       "      <td>781.0</td>\n",
       "      <td>19076.0</td>\n",
       "      <td>734619.0</td>\n",
       "      <td>4.0</td>\n",
       "      <td>310.0</td>\n",
       "      <td>7477.0</td>\n",
       "    </tr>\n",
       "    <tr>\n",
       "      <th>2020-08-27</th>\n",
       "      <td>140888.0</td>\n",
       "      <td>7535.0</td>\n",
       "      <td>113577.0</td>\n",
       "      <td>1351.0</td>\n",
       "      <td>30.0</td>\n",
       "      <td>834.0</td>\n",
       "      <td>9266.0</td>\n",
       "      <td>743885.0</td>\n",
       "      <td>3.0</td>\n",
       "      <td>313.0</td>\n",
       "      <td>7505.0</td>\n",
       "    </tr>\n",
       "    <tr>\n",
       "      <th>2020-08-28</th>\n",
       "      <td>142108.0</td>\n",
       "      <td>7565.0</td>\n",
       "      <td>114818.0</td>\n",
       "      <td>1220.0</td>\n",
       "      <td>30.0</td>\n",
       "      <td>1241.0</td>\n",
       "      <td>NaN</td>\n",
       "      <td>743885.0</td>\n",
       "      <td>5.0</td>\n",
       "      <td>318.0</td>\n",
       "      <td>7535.0</td>\n",
       "    </tr>\n",
       "    <tr>\n",
       "      <th>2020-08-29</th>\n",
       "      <td>143389.0</td>\n",
       "      <td>7596.0</td>\n",
       "      <td>115500.0</td>\n",
       "      <td>1281.0</td>\n",
       "      <td>31.0</td>\n",
       "      <td>682.0</td>\n",
       "      <td>NaN</td>\n",
       "      <td>743885.0</td>\n",
       "      <td>4.0</td>\n",
       "      <td>322.0</td>\n",
       "      <td>7565.0</td>\n",
       "    </tr>\n",
       "    <tr>\n",
       "      <th>2020-08-30</th>\n",
       "      <td>143389.0</td>\n",
       "      <td>7596.0</td>\n",
       "      <td>115500.0</td>\n",
       "      <td>NaN</td>\n",
       "      <td>NaN</td>\n",
       "      <td>NaN</td>\n",
       "      <td>NaN</td>\n",
       "      <td>743885.0</td>\n",
       "      <td>NaN</td>\n",
       "      <td>322.0</td>\n",
       "      <td>7596.0</td>\n",
       "    </tr>\n",
       "  </tbody>\n",
       "</table>\n",
       "</div>"
      ],
      "text/plain": [
       "            Mumbai.total.confirmed  Mumbai.total.deceased  \\\n",
       "Unnamed: 0                                                  \n",
       "2020-08-26                139537.0                 7505.0   \n",
       "2020-08-27                140888.0                 7535.0   \n",
       "2020-08-28                142108.0                 7565.0   \n",
       "2020-08-29                143389.0                 7596.0   \n",
       "2020-08-30                143389.0                 7596.0   \n",
       "\n",
       "            Mumbai.total.recovered  Mumbai.delta.confirmed  \\\n",
       "Unnamed: 0                                                   \n",
       "2020-08-26                112743.0                  1854.0   \n",
       "2020-08-27                113577.0                  1351.0   \n",
       "2020-08-28                114818.0                  1220.0   \n",
       "2020-08-29                115500.0                  1281.0   \n",
       "2020-08-30                115500.0                     NaN   \n",
       "\n",
       "            Mumbai.delta.deceased  Mumbai.delta.recovered  \\\n",
       "Unnamed: 0                                                  \n",
       "2020-08-26                   28.0                   781.0   \n",
       "2020-08-27                   30.0                   834.0   \n",
       "2020-08-28                   30.0                  1241.0   \n",
       "2020-08-29                   31.0                   682.0   \n",
       "2020-08-30                    NaN                     NaN   \n",
       "\n",
       "            Mumbai.delta.tested  Mumbai.total.tested  Mumbai.delta.other  \\\n",
       "Unnamed: 0                                                                 \n",
       "2020-08-26              19076.0             734619.0                 4.0   \n",
       "2020-08-27               9266.0             743885.0                 3.0   \n",
       "2020-08-28                  NaN             743885.0                 5.0   \n",
       "2020-08-29                  NaN             743885.0                 4.0   \n",
       "2020-08-30                  NaN             743885.0                 NaN   \n",
       "\n",
       "            Mumbai.total.other  Mumbai.total.deceased.shift  \n",
       "Unnamed: 0                                                   \n",
       "2020-08-26               310.0                       7477.0  \n",
       "2020-08-27               313.0                       7505.0  \n",
       "2020-08-28               318.0                       7535.0  \n",
       "2020-08-29               322.0                       7565.0  \n",
       "2020-08-30               322.0                       7596.0  "
      ]
     },
     "execution_count": 25,
     "metadata": {},
     "output_type": "execute_result"
    }
   ],
   "source": [
    "df.tail()"
   ]
  },
  {
   "cell_type": "code",
   "execution_count": 26,
   "metadata": {},
   "outputs": [],
   "source": [
    "df[\"Mumbai.Levitt.Metric\"] = df[\"Mumbai.total.deceased\"]/df[\"Mumbai.total.deceased.shift\"]"
   ]
  },
  {
   "cell_type": "code",
   "execution_count": 30,
   "metadata": {},
   "outputs": [
    {
     "data": {
      "text/plain": [
       "<matplotlib.axes._subplots.AxesSubplot at 0x120847750>"
      ]
     },
     "execution_count": 30,
     "metadata": {},
     "output_type": "execute_result"
    },
    {
     "data": {
      "image/png": "[encoded data removed]",
      "text/plain": [
       "<Figure size 432x288 with 1 Axes>"
      ]
     },
     "metadata": {
      "needs_background": "light"
     },
     "output_type": "display_data"
    }
   ],
   "source": [
    "df[\"Mumbai.Levitt.Metric\"].plot()"
   ]
  },
  {
   "cell_type": "code",
   "execution_count": 27,
   "metadata": {},
   "outputs": [
    {
     "data": {
      "text/html": [
       "<div>\n",
       "<style scoped>\n",
       "    .dataframe tbody tr th:only-of-type {\n",
       "        vertical-align: middle;\n",
       "    }\n",
       "\n",
       "    .dataframe tbody tr th {\n",
       "        vertical-align: top;\n",
       "    }\n",
       "\n",
       "    .dataframe thead th {\n",
       "        text-align: right;\n",
       "    }\n",
       "</style>\n",
       "<table border=\"1\" class=\"dataframe\">\n",
       "  <thead>\n",
       "    <tr style=\"text-align: right;\">\n",
       "      <th></th>\n",
       "      <th>Mumbai.total.confirmed</th>\n",
       "      <th>Mumbai.total.deceased</th>\n",
       "      <th>Mumbai.total.recovered</th>\n",
       "      <th>Mumbai.delta.confirmed</th>\n",
       "      <th>Mumbai.delta.deceased</th>\n",
       "      <th>Mumbai.delta.recovered</th>\n",
       "      <th>Mumbai.delta.tested</th>\n",
       "      <th>Mumbai.total.tested</th>\n",
       "      <th>Mumbai.delta.other</th>\n",
       "      <th>Mumbai.total.other</th>\n",
       "      <th>Mumbai.total.deceased.shift</th>\n",
       "      <th>Mumbai.Levitt.Metric</th>\n",
       "    </tr>\n",
       "    <tr>\n",
       "      <th>Unnamed: 0</th>\n",
       "      <th></th>\n",
       "      <th></th>\n",
       "      <th></th>\n",
       "      <th></th>\n",
       "      <th></th>\n",
       "      <th></th>\n",
       "      <th></th>\n",
       "      <th></th>\n",
       "      <th></th>\n",
       "      <th></th>\n",
       "      <th></th>\n",
       "      <th></th>\n",
       "    </tr>\n",
       "  </thead>\n",
       "  <tbody>\n",
       "    <tr>\n",
       "      <th>2020-08-26</th>\n",
       "      <td>139537.0</td>\n",
       "      <td>7505.0</td>\n",
       "      <td>112743.0</td>\n",
       "      <td>1854.0</td>\n",
       "      <td>28.0</td>\n",
       "      <td>781.0</td>\n",
       "      <td>19076.0</td>\n",
       "      <td>734619.0</td>\n",
       "      <td>4.0</td>\n",
       "      <td>310.0</td>\n",
       "      <td>7477.0</td>\n",
       "      <td>1.003745</td>\n",
       "    </tr>\n",
       "    <tr>\n",
       "      <th>2020-08-27</th>\n",
       "      <td>140888.0</td>\n",
       "      <td>7535.0</td>\n",
       "      <td>113577.0</td>\n",
       "      <td>1351.0</td>\n",
       "      <td>30.0</td>\n",
       "      <td>834.0</td>\n",
       "      <td>9266.0</td>\n",
       "      <td>743885.0</td>\n",
       "      <td>3.0</td>\n",
       "      <td>313.0</td>\n",
       "      <td>7505.0</td>\n",
       "      <td>1.003997</td>\n",
       "    </tr>\n",
       "    <tr>\n",
       "      <th>2020-08-28</th>\n",
       "      <td>142108.0</td>\n",
       "      <td>7565.0</td>\n",
       "      <td>114818.0</td>\n",
       "      <td>1220.0</td>\n",
       "      <td>30.0</td>\n",
       "      <td>1241.0</td>\n",
       "      <td>NaN</td>\n",
       "      <td>743885.0</td>\n",
       "      <td>5.0</td>\n",
       "      <td>318.0</td>\n",
       "      <td>7535.0</td>\n",
       "      <td>1.003981</td>\n",
       "    </tr>\n",
       "    <tr>\n",
       "      <th>2020-08-29</th>\n",
       "      <td>143389.0</td>\n",
       "      <td>7596.0</td>\n",
       "      <td>115500.0</td>\n",
       "      <td>1281.0</td>\n",
       "      <td>31.0</td>\n",
       "      <td>682.0</td>\n",
       "      <td>NaN</td>\n",
       "      <td>743885.0</td>\n",
       "      <td>4.0</td>\n",
       "      <td>322.0</td>\n",
       "      <td>7565.0</td>\n",
       "      <td>1.004098</td>\n",
       "    </tr>\n",
       "    <tr>\n",
       "      <th>2020-08-30</th>\n",
       "      <td>143389.0</td>\n",
       "      <td>7596.0</td>\n",
       "      <td>115500.0</td>\n",
       "      <td>NaN</td>\n",
       "      <td>NaN</td>\n",
       "      <td>NaN</td>\n",
       "      <td>NaN</td>\n",
       "      <td>743885.0</td>\n",
       "      <td>NaN</td>\n",
       "      <td>322.0</td>\n",
       "      <td>7596.0</td>\n",
       "      <td>1.000000</td>\n",
       "    </tr>\n",
       "  </tbody>\n",
       "</table>\n",
       "</div>"
      ],
      "text/plain": [
       "            Mumbai.total.confirmed  Mumbai.total.deceased  \\\n",
       "Unnamed: 0                                                  \n",
       "2020-08-26                139537.0                 7505.0   \n",
       "2020-08-27                140888.0                 7535.0   \n",
       "2020-08-28                142108.0                 7565.0   \n",
       "2020-08-29                143389.0                 7596.0   \n",
       "2020-08-30                143389.0                 7596.0   \n",
       "\n",
       "            Mumbai.total.recovered  Mumbai.delta.confirmed  \\\n",
       "Unnamed: 0                                                   \n",
       "2020-08-26                112743.0                  1854.0   \n",
       "2020-08-27                113577.0                  1351.0   \n",
       "2020-08-28                114818.0                  1220.0   \n",
       "2020-08-29                115500.0                  1281.0   \n",
       "2020-08-30                115500.0                     NaN   \n",
       "\n",
       "            Mumbai.delta.deceased  Mumbai.delta.recovered  \\\n",
       "Unnamed: 0                                                  \n",
       "2020-08-26                   28.0                   781.0   \n",
       "2020-08-27                   30.0                   834.0   \n",
       "2020-08-28                   30.0                  1241.0   \n",
       "2020-08-29                   31.0                   682.0   \n",
       "2020-08-30                    NaN                     NaN   \n",
       "\n",
       "            Mumbai.delta.tested  Mumbai.total.tested  Mumbai.delta.other  \\\n",
       "Unnamed: 0                                                                 \n",
       "2020-08-26              19076.0             734619.0                 4.0   \n",
       "2020-08-27               9266.0             743885.0                 3.0   \n",
       "2020-08-28                  NaN             743885.0                 5.0   \n",
       "2020-08-29                  NaN             743885.0                 4.0   \n",
       "2020-08-30                  NaN             743885.0                 NaN   \n",
       "\n",
       "            Mumbai.total.other  Mumbai.total.deceased.shift  \\\n",
       "Unnamed: 0                                                    \n",
       "2020-08-26               310.0                       7477.0   \n",
       "2020-08-27               313.0                       7505.0   \n",
       "2020-08-28               318.0                       7535.0   \n",
       "2020-08-29               322.0                       7565.0   \n",
       "2020-08-30               322.0                       7596.0   \n",
       "\n",
       "            Mumbai.Levitt.Metric  \n",
       "Unnamed: 0                        \n",
       "2020-08-26              1.003745  \n",
       "2020-08-27              1.003997  \n",
       "2020-08-28              1.003981  \n",
       "2020-08-29              1.004098  \n",
       "2020-08-30              1.000000  "
      ]
     },
     "execution_count": 27,
     "metadata": {},
     "output_type": "execute_result"
    }
   ],
   "source": [
    "df.tail()"
   ]
  },
  {
   "cell_type": "markdown",
   "metadata": {},
   "source": [
    "### Method 3\n",
    "\n",
    "21-day moving averages"
   ]
  },
  {
   "cell_type": "markdown",
   "metadata": {},
   "source": [
    "#### MA of daily tests"
   ]
  },
  {
   "cell_type": "code",
   "execution_count": 31,
   "metadata": {},
   "outputs": [],
   "source": [
    "df[\"Mumbai.MA.daily.tests\"] = df[\"Mumbai.delta.tested\"].rolling(window=21).mean()"
   ]
  },
  {
   "cell_type": "code",
   "execution_count": 32,
   "metadata": {},
   "outputs": [
    {
     "data": {
      "text/plain": [
       "<matplotlib.axes._subplots.AxesSubplot at 0x120928350>"
      ]
     },
     "execution_count": 32,
     "metadata": {},
     "output_type": "execute_result"
    },
    {
     "data": {
      "image/png": "[encoded data removed]",
      "text/plain": [
       "<Figure size 432x288 with 1 Axes>"
      ]
     },
     "metadata": {
      "needs_background": "light"
     },
     "output_type": "display_data"
    }
   ],
   "source": [
    "df[\"Mumbai.MA.daily.tests\"].plot()"
   ]
  },
  {
   "cell_type": "markdown",
   "metadata": {},
   "source": [
    "#### Daily case positivity\n",
    "\n",
    "We find daily positivity by dividing daily confirmed cases by the number of tests"
   ]
  },
  {
   "cell_type": "code",
   "execution_count": 33,
   "metadata": {},
   "outputs": [
    {
     "data": {
      "text/plain": [
       "<matplotlib.axes._subplots.AxesSubplot at 0x1209f8a10>"
      ]
     },
     "execution_count": 33,
     "metadata": {},
     "output_type": "execute_result"
    },
    {
     "data": {
      "image/png": "[encoded data removed]",
      "text/plain": [
       "<Figure size 432x288 with 1 Axes>"
      ]
     },
     "metadata": {
      "needs_background": "light"
     },
     "output_type": "display_data"
    }
   ],
   "source": [
    "df[\"Mumbai.MA.daily.positivity\"] = df[\"Mumbai.delta.confirmed\"]/df[\"Mumbai.delta.tested\"]\n",
    "df[\"Mumbai.MA.daily.positivity\"].plot()"
   ]
  },
  {
   "cell_type": "markdown",
   "metadata": {},
   "source": [
    "#### Percent case growth\n",
    "\n"
   ]
  },
  {
   "cell_type": "code",
   "execution_count": 39,
   "metadata": {},
   "outputs": [],
   "source": [
    "df[\"Mumbai.percent.case.growth\"] = df[\"Mumbai.delta.confirmed\"].pct_change()"
   ]
  },
  {
   "cell_type": "code",
   "execution_count": 40,
   "metadata": {},
   "outputs": [
    {
     "data": {
      "text/plain": [
       "<matplotlib.axes._subplots.AxesSubplot at 0x120c50b50>"
      ]
     },
     "execution_count": 40,
     "metadata": {},
     "output_type": "execute_result"
    },
    {
     "data": {
      "image/png": "[encoded data removed]",
      "text/plain": [
       "<Figure size 432x288 with 1 Axes>"
      ]
     },
     "metadata": {
      "needs_background": "light"
     },
     "output_type": "display_data"
    }
   ],
   "source": [
    "df[\"Mumbai.percent.case.growth\"].plot()"
   ]
  },
  {
   "cell_type": "markdown",
   "metadata": {},
   "source": [
    "### Save output CSV"
   ]
  },
  {
   "cell_type": "code",
   "execution_count": 45,
   "metadata": {},
   "outputs": [],
   "source": [
    "df.to_csv(\"output/metrics.csv\")"
   ]
  }
 ],
 "metadata": {
  "kernelspec": {
   "display_name": "Python 3",
   "language": "python",
   "name": "python3"
  },
  "language_info": {
   "codemirror_mode": {
    "name": "ipython",
    "version": 3
   },
   "file_extension": ".py",
   "mimetype": "text/x-python",
   "name": "python",
   "nbconvert_exporter": "python",
   "pygments_lexer": "ipython3",
   "version": "3.7.5"
  },
  "toc": {
   "base_numbering": 1,
   "nav_menu": {},
   "number_sections": true,
   "sideBar": true,
   "skip_h1_title": false,
   "title_cell": "Table of Contents",
   "title_sidebar": "Contents",
   "toc_cell": true,
   "toc_position": {},
   "toc_section_display": true,
   "toc_window_display": false
  }
 },
 "nbformat": 4,
 "nbformat_minor": 4
}
