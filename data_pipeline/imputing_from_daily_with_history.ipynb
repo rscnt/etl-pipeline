{
  "nbformat": 4,
  "nbformat_minor": 0,
  "metadata": {
    "colab": {
      "name": "imputing-from-daily-with-history.ipynb",
      "provenance": [],
      "collapsed_sections": []
    },
    "kernelspec": {
      "name": "python3",
      "display_name": "Python 3"
    }
  },
  "cells": [
    {
      "cell_type": "code",
      "metadata": {
        "id": "q5tqsUtcL5Y2",
        "colab_type": "code",
        "colab": {}
      },
      "source": [
        "import pandas"
      ],
      "execution_count": 1,
      "outputs": []
    },
    {
      "cell_type": "code",
      "metadata": {
        "id": "l99AxEIcMfwL",
        "colab_type": "code",
        "colab": {}
      },
      "source": [
        "history_df = pandas.read_csv('/content/drive/My Drive/swb-imputing-daily/history-2020-09-19.csv')"
      ],
      "execution_count": 2,
      "outputs": []
    },
    {
      "cell_type": "code",
      "metadata": {
        "id": "Q23LtYXjMlY0",
        "colab_type": "code",
        "colab": {}
      },
      "source": [
        "positive_daily_df = pandas.read_csv('/content/drive/My Drive/swb-imputing-daily/ward-positive-breakdown-2020-09-19.csv')"
      ],
      "execution_count": 59,
      "outputs": []
    },
    {
      "cell_type": "code",
      "metadata": {
        "id": "GwzqoJ-KSZ4q",
        "colab_type": "code",
        "colab": {
          "base_uri": "https://localhost:8080/",
          "height": 206
        },
        "outputId": "25bf54d3-ad8d-4ebf-f25b-4272b7ad32d9"
      },
      "source": [
        "positive_daily_df.head()"
      ],
      "execution_count": 60,
      "outputs": [
        {
          "output_type": "execute_result",
          "data": {
            "text/html": [
              "<div>\n",
              "<style scoped>\n",
              "    .dataframe tbody tr th:only-of-type {\n",
              "        vertical-align: middle;\n",
              "    }\n",
              "\n",
              "    .dataframe tbody tr th {\n",
              "        vertical-align: top;\n",
              "    }\n",
              "\n",
              "    .dataframe thead th {\n",
              "        text-align: right;\n",
              "    }\n",
              "</style>\n",
              "<table border=\"1\" class=\"dataframe\">\n",
              "  <thead>\n",
              "    <tr style=\"text-align: right;\">\n",
              "      <th></th>\n",
              "      <th>Ward_Name</th>\n",
              "      <th>Total_Positive_Cases</th>\n",
              "      <th>Total_Discharged</th>\n",
              "      <th>Total_Deaths</th>\n",
              "      <th>Total_Active</th>\n",
              "      <th>as_of</th>\n",
              "    </tr>\n",
              "  </thead>\n",
              "  <tbody>\n",
              "    <tr>\n",
              "      <th>0</th>\n",
              "      <td>RC</td>\n",
              "      <td>11106</td>\n",
              "      <td>8537</td>\n",
              "      <td>328</td>\n",
              "      <td>2241</td>\n",
              "      <td>2020-09-18</td>\n",
              "    </tr>\n",
              "    <tr>\n",
              "      <th>1</th>\n",
              "      <td>PN</td>\n",
              "      <td>10682</td>\n",
              "      <td>8667</td>\n",
              "      <td>392</td>\n",
              "      <td>1623</td>\n",
              "      <td>2020-09-18</td>\n",
              "    </tr>\n",
              "    <tr>\n",
              "      <th>2</th>\n",
              "      <td>KW</td>\n",
              "      <td>10638</td>\n",
              "      <td>8160</td>\n",
              "      <td>350</td>\n",
              "      <td>2128</td>\n",
              "      <td>2020-09-18</td>\n",
              "    </tr>\n",
              "    <tr>\n",
              "      <th>3</th>\n",
              "      <td>KE</td>\n",
              "      <td>10627</td>\n",
              "      <td>8254</td>\n",
              "      <td>576</td>\n",
              "      <td>1797</td>\n",
              "      <td>2020-09-18</td>\n",
              "    </tr>\n",
              "    <tr>\n",
              "      <th>4</th>\n",
              "      <td>GN</td>\n",
              "      <td>9788</td>\n",
              "      <td>7752</td>\n",
              "      <td>539</td>\n",
              "      <td>1497</td>\n",
              "      <td>2020-09-18</td>\n",
              "    </tr>\n",
              "  </tbody>\n",
              "</table>\n",
              "</div>"
            ],
            "text/plain": [
              "  Ward_Name  Total_Positive_Cases  ...  Total_Active       as_of\n",
              "0        RC                 11106  ...          2241  2020-09-18\n",
              "1        PN                 10682  ...          1623  2020-09-18\n",
              "2        KW                 10638  ...          2128  2020-09-18\n",
              "3        KE                 10627  ...          1797  2020-09-18\n",
              "4        GN                  9788  ...          1497  2020-09-18\n",
              "\n",
              "[5 rows x 6 columns]"
            ]
          },
          "metadata": {
            "tags": []
          },
          "execution_count": 60
        }
      ]
    },
    {
      "cell_type": "code",
      "metadata": {
        "id": "ZHO4HoyRMqDO",
        "colab_type": "code",
        "colab": {}
      },
      "source": [
        "from datetime import timedelta, datetime, date"
      ],
      "execution_count": 23,
      "outputs": []
    },
    {
      "cell_type": "code",
      "metadata": {
        "id": "4hTDExUCMv8i",
        "colab_type": "code",
        "colab": {}
      },
      "source": [
        "imput_for_date = (date.today() - timedelta(days=5)) "
      ],
      "execution_count": 50,
      "outputs": []
    },
    {
      "cell_type": "code",
      "metadata": {
        "id": "mKdfPFhIPaGf",
        "colab_type": "code",
        "colab": {}
      },
      "source": [
        "imput_for_datetime = datetime(imput_for_date.year, imput_for_date.month, imput_for_date.day, 0, 0, 0)"
      ],
      "execution_count": 51,
      "outputs": []
    },
    {
      "cell_type": "code",
      "metadata": {
        "id": "a6_pejpNRNvL",
        "colab_type": "code",
        "colab": {
          "base_uri": "https://localhost:8080/",
          "height": 35
        },
        "outputId": "7ed289ee-c07b-4012-ba4d-b4b8b38dfbd8"
      },
      "source": [
        "imput_for_datetime"
      ],
      "execution_count": 52,
      "outputs": [
        {
          "output_type": "execute_result",
          "data": {
            "text/plain": [
              "datetime.datetime(2020, 9, 15, 0, 0)"
            ]
          },
          "metadata": {
            "tags": []
          },
          "execution_count": 52
        }
      ]
    },
    {
      "cell_type": "code",
      "metadata": {
        "id": "sz9fxfRxM2fy",
        "colab_type": "code",
        "colab": {
          "base_uri": "https://localhost:8080/",
          "height": 226
        },
        "outputId": "15a92fd7-8c55-4f9b-ce4d-c0d41792c14d"
      },
      "source": [
        "history_df.head()"
      ],
      "execution_count": 11,
      "outputs": [
        {
          "output_type": "execute_result",
          "data": {
            "text/html": [
              "<div>\n",
              "<style scoped>\n",
              "    .dataframe tbody tr th:only-of-type {\n",
              "        vertical-align: middle;\n",
              "    }\n",
              "\n",
              "    .dataframe tbody tr th {\n",
              "        vertical-align: top;\n",
              "    }\n",
              "\n",
              "    .dataframe thead th {\n",
              "        text-align: right;\n",
              "    }\n",
              "</style>\n",
              "<table border=\"1\" class=\"dataframe\">\n",
              "  <thead>\n",
              "    <tr style=\"text-align: right;\">\n",
              "      <th></th>\n",
              "      <th>date</th>\n",
              "      <th>district</th>\n",
              "      <th>state</th>\n",
              "      <th>total.confirmed</th>\n",
              "      <th>total.deceased</th>\n",
              "      <th>total.recovered</th>\n",
              "      <th>delta.confirmed</th>\n",
              "      <th>delta.deceased</th>\n",
              "      <th>delta.recovered</th>\n",
              "      <th>delta.tested</th>\n",
              "      <th>total.tested</th>\n",
              "      <th>delta.other</th>\n",
              "      <th>total.other</th>\n",
              "    </tr>\n",
              "  </thead>\n",
              "  <tbody>\n",
              "    <tr>\n",
              "      <th>0</th>\n",
              "      <td>2020-01-30</td>\n",
              "      <td>Mumbai</td>\n",
              "      <td>MH</td>\n",
              "      <td>NaN</td>\n",
              "      <td>NaN</td>\n",
              "      <td>NaN</td>\n",
              "      <td>NaN</td>\n",
              "      <td>NaN</td>\n",
              "      <td>NaN</td>\n",
              "      <td>NaN</td>\n",
              "      <td>NaN</td>\n",
              "      <td>NaN</td>\n",
              "      <td>NaN</td>\n",
              "    </tr>\n",
              "    <tr>\n",
              "      <th>1</th>\n",
              "      <td>2020-02-02</td>\n",
              "      <td>Mumbai</td>\n",
              "      <td>MH</td>\n",
              "      <td>NaN</td>\n",
              "      <td>NaN</td>\n",
              "      <td>NaN</td>\n",
              "      <td>NaN</td>\n",
              "      <td>NaN</td>\n",
              "      <td>NaN</td>\n",
              "      <td>NaN</td>\n",
              "      <td>NaN</td>\n",
              "      <td>NaN</td>\n",
              "      <td>NaN</td>\n",
              "    </tr>\n",
              "    <tr>\n",
              "      <th>2</th>\n",
              "      <td>2020-02-03</td>\n",
              "      <td>Mumbai</td>\n",
              "      <td>MH</td>\n",
              "      <td>NaN</td>\n",
              "      <td>NaN</td>\n",
              "      <td>NaN</td>\n",
              "      <td>NaN</td>\n",
              "      <td>NaN</td>\n",
              "      <td>NaN</td>\n",
              "      <td>NaN</td>\n",
              "      <td>NaN</td>\n",
              "      <td>NaN</td>\n",
              "      <td>NaN</td>\n",
              "    </tr>\n",
              "    <tr>\n",
              "      <th>3</th>\n",
              "      <td>2020-02-14</td>\n",
              "      <td>Mumbai</td>\n",
              "      <td>MH</td>\n",
              "      <td>NaN</td>\n",
              "      <td>NaN</td>\n",
              "      <td>NaN</td>\n",
              "      <td>NaN</td>\n",
              "      <td>NaN</td>\n",
              "      <td>NaN</td>\n",
              "      <td>NaN</td>\n",
              "      <td>NaN</td>\n",
              "      <td>NaN</td>\n",
              "      <td>NaN</td>\n",
              "    </tr>\n",
              "    <tr>\n",
              "      <th>4</th>\n",
              "      <td>2020-03-02</td>\n",
              "      <td>Mumbai</td>\n",
              "      <td>MH</td>\n",
              "      <td>NaN</td>\n",
              "      <td>NaN</td>\n",
              "      <td>NaN</td>\n",
              "      <td>NaN</td>\n",
              "      <td>NaN</td>\n",
              "      <td>NaN</td>\n",
              "      <td>NaN</td>\n",
              "      <td>NaN</td>\n",
              "      <td>NaN</td>\n",
              "      <td>NaN</td>\n",
              "    </tr>\n",
              "  </tbody>\n",
              "</table>\n",
              "</div>"
            ],
            "text/plain": [
              "         date district state  ...  total.tested  delta.other  total.other\n",
              "0  2020-01-30   Mumbai    MH  ...           NaN          NaN          NaN\n",
              "1  2020-02-02   Mumbai    MH  ...           NaN          NaN          NaN\n",
              "2  2020-02-03   Mumbai    MH  ...           NaN          NaN          NaN\n",
              "3  2020-02-14   Mumbai    MH  ...           NaN          NaN          NaN\n",
              "4  2020-03-02   Mumbai    MH  ...           NaN          NaN          NaN\n",
              "\n",
              "[5 rows x 13 columns]"
            ]
          },
          "metadata": {
            "tags": []
          },
          "execution_count": 11
        }
      ]
    },
    {
      "cell_type": "code",
      "metadata": {
        "id": "Qnf2TFZnOcrW",
        "colab_type": "code",
        "colab": {}
      },
      "source": [
        "history_df['date'] = pandas.to_datetime(history_df['date'])  "
      ],
      "execution_count": 20,
      "outputs": []
    },
    {
      "cell_type": "code",
      "metadata": {
        "id": "-U-9rrmiOi2h",
        "colab_type": "code",
        "colab": {
          "base_uri": "https://localhost:8080/",
          "height": 226
        },
        "outputId": "0fbbb7c1-613c-4f6c-c666-48fd6c80ce1b"
      },
      "source": [
        "history_df.head()"
      ],
      "execution_count": 21,
      "outputs": [
        {
          "output_type": "execute_result",
          "data": {
            "text/html": [
              "<div>\n",
              "<style scoped>\n",
              "    .dataframe tbody tr th:only-of-type {\n",
              "        vertical-align: middle;\n",
              "    }\n",
              "\n",
              "    .dataframe tbody tr th {\n",
              "        vertical-align: top;\n",
              "    }\n",
              "\n",
              "    .dataframe thead th {\n",
              "        text-align: right;\n",
              "    }\n",
              "</style>\n",
              "<table border=\"1\" class=\"dataframe\">\n",
              "  <thead>\n",
              "    <tr style=\"text-align: right;\">\n",
              "      <th></th>\n",
              "      <th>date</th>\n",
              "      <th>district</th>\n",
              "      <th>state</th>\n",
              "      <th>total.confirmed</th>\n",
              "      <th>total.deceased</th>\n",
              "      <th>total.recovered</th>\n",
              "      <th>delta.confirmed</th>\n",
              "      <th>delta.deceased</th>\n",
              "      <th>delta.recovered</th>\n",
              "      <th>delta.tested</th>\n",
              "      <th>total.tested</th>\n",
              "      <th>delta.other</th>\n",
              "      <th>total.other</th>\n",
              "    </tr>\n",
              "  </thead>\n",
              "  <tbody>\n",
              "    <tr>\n",
              "      <th>0</th>\n",
              "      <td>2020-01-30</td>\n",
              "      <td>Mumbai</td>\n",
              "      <td>MH</td>\n",
              "      <td>NaN</td>\n",
              "      <td>NaN</td>\n",
              "      <td>NaN</td>\n",
              "      <td>NaN</td>\n",
              "      <td>NaN</td>\n",
              "      <td>NaN</td>\n",
              "      <td>NaN</td>\n",
              "      <td>NaN</td>\n",
              "      <td>NaN</td>\n",
              "      <td>NaN</td>\n",
              "    </tr>\n",
              "    <tr>\n",
              "      <th>1</th>\n",
              "      <td>2020-02-02</td>\n",
              "      <td>Mumbai</td>\n",
              "      <td>MH</td>\n",
              "      <td>NaN</td>\n",
              "      <td>NaN</td>\n",
              "      <td>NaN</td>\n",
              "      <td>NaN</td>\n",
              "      <td>NaN</td>\n",
              "      <td>NaN</td>\n",
              "      <td>NaN</td>\n",
              "      <td>NaN</td>\n",
              "      <td>NaN</td>\n",
              "      <td>NaN</td>\n",
              "    </tr>\n",
              "    <tr>\n",
              "      <th>2</th>\n",
              "      <td>2020-02-03</td>\n",
              "      <td>Mumbai</td>\n",
              "      <td>MH</td>\n",
              "      <td>NaN</td>\n",
              "      <td>NaN</td>\n",
              "      <td>NaN</td>\n",
              "      <td>NaN</td>\n",
              "      <td>NaN</td>\n",
              "      <td>NaN</td>\n",
              "      <td>NaN</td>\n",
              "      <td>NaN</td>\n",
              "      <td>NaN</td>\n",
              "      <td>NaN</td>\n",
              "    </tr>\n",
              "    <tr>\n",
              "      <th>3</th>\n",
              "      <td>2020-02-14</td>\n",
              "      <td>Mumbai</td>\n",
              "      <td>MH</td>\n",
              "      <td>NaN</td>\n",
              "      <td>NaN</td>\n",
              "      <td>NaN</td>\n",
              "      <td>NaN</td>\n",
              "      <td>NaN</td>\n",
              "      <td>NaN</td>\n",
              "      <td>NaN</td>\n",
              "      <td>NaN</td>\n",
              "      <td>NaN</td>\n",
              "      <td>NaN</td>\n",
              "    </tr>\n",
              "    <tr>\n",
              "      <th>4</th>\n",
              "      <td>2020-03-02</td>\n",
              "      <td>Mumbai</td>\n",
              "      <td>MH</td>\n",
              "      <td>NaN</td>\n",
              "      <td>NaN</td>\n",
              "      <td>NaN</td>\n",
              "      <td>NaN</td>\n",
              "      <td>NaN</td>\n",
              "      <td>NaN</td>\n",
              "      <td>NaN</td>\n",
              "      <td>NaN</td>\n",
              "      <td>NaN</td>\n",
              "      <td>NaN</td>\n",
              "    </tr>\n",
              "  </tbody>\n",
              "</table>\n",
              "</div>"
            ],
            "text/plain": [
              "        date district state  ...  total.tested  delta.other  total.other\n",
              "0 2020-01-30   Mumbai    MH  ...           NaN          NaN          NaN\n",
              "1 2020-02-02   Mumbai    MH  ...           NaN          NaN          NaN\n",
              "2 2020-02-03   Mumbai    MH  ...           NaN          NaN          NaN\n",
              "3 2020-02-14   Mumbai    MH  ...           NaN          NaN          NaN\n",
              "4 2020-03-02   Mumbai    MH  ...           NaN          NaN          NaN\n",
              "\n",
              "[5 rows x 13 columns]"
            ]
          },
          "metadata": {
            "tags": []
          },
          "execution_count": 21
        }
      ]
    },
    {
      "cell_type": "code",
      "metadata": {
        "id": "l9JsXQE_NTMc",
        "colab_type": "code",
        "colab": {
          "base_uri": "https://localhost:8080/",
          "height": 35
        },
        "outputId": "d47097c0-6ed2-4554-d46b-d6e92310fb5e"
      },
      "source": [
        "history_df['date'][history_df.shape[0] - 1]"
      ],
      "execution_count": 45,
      "outputs": [
        {
          "output_type": "execute_result",
          "data": {
            "text/plain": [
              "Timestamp('2020-09-19 00:00:00')"
            ]
          },
          "metadata": {
            "tags": []
          },
          "execution_count": 45
        }
      ]
    },
    {
      "cell_type": "code",
      "metadata": {
        "id": "7nShqkYZRV6R",
        "colab_type": "code",
        "colab": {
          "base_uri": "https://localhost:8080/",
          "height": 101
        },
        "outputId": "931e3fa5-6fb2-4548-8bd7-21d661ae7683"
      },
      "source": [
        "history_df.loc[history_df['date'] == imput_for_datetime]"
      ],
      "execution_count": 53,
      "outputs": [
        {
          "output_type": "execute_result",
          "data": {
            "text/html": [
              "<div>\n",
              "<style scoped>\n",
              "    .dataframe tbody tr th:only-of-type {\n",
              "        vertical-align: middle;\n",
              "    }\n",
              "\n",
              "    .dataframe tbody tr th {\n",
              "        vertical-align: top;\n",
              "    }\n",
              "\n",
              "    .dataframe thead th {\n",
              "        text-align: right;\n",
              "    }\n",
              "</style>\n",
              "<table border=\"1\" class=\"dataframe\">\n",
              "  <thead>\n",
              "    <tr style=\"text-align: right;\">\n",
              "      <th></th>\n",
              "      <th>date</th>\n",
              "      <th>district</th>\n",
              "      <th>state</th>\n",
              "      <th>total.confirmed</th>\n",
              "      <th>total.deceased</th>\n",
              "      <th>total.recovered</th>\n",
              "      <th>delta.confirmed</th>\n",
              "      <th>delta.deceased</th>\n",
              "      <th>delta.recovered</th>\n",
              "      <th>delta.tested</th>\n",
              "      <th>total.tested</th>\n",
              "      <th>delta.other</th>\n",
              "      <th>total.other</th>\n",
              "    </tr>\n",
              "  </thead>\n",
              "  <tbody>\n",
              "    <tr>\n",
              "      <th>201</th>\n",
              "      <td>2020-09-15</td>\n",
              "      <td>Mumbai</td>\n",
              "      <td>MH</td>\n",
              "      <td>173596.0</td>\n",
              "      <td>8230.0</td>\n",
              "      <td>134066.0</td>\n",
              "      <td>1586.0</td>\n",
              "      <td>49.0</td>\n",
              "      <td>1719.0</td>\n",
              "      <td>NaN</td>\n",
              "      <td>925148.0</td>\n",
              "      <td>3.0</td>\n",
              "      <td>362.0</td>\n",
              "    </tr>\n",
              "  </tbody>\n",
              "</table>\n",
              "</div>"
            ],
            "text/plain": [
              "          date district state  ...  total.tested  delta.other  total.other\n",
              "201 2020-09-15   Mumbai    MH  ...      925148.0          3.0        362.0\n",
              "\n",
              "[1 rows x 13 columns]"
            ]
          },
          "metadata": {
            "tags": []
          },
          "execution_count": 53
        }
      ]
    },
    {
      "cell_type": "code",
      "metadata": {
        "id": "Z-6nBoT-U8Zp",
        "colab_type": "code",
        "colab": {
          "base_uri": "https://localhost:8080/",
          "height": 226
        },
        "outputId": "e36602fa-0f45-4c9b-dd8e-61033f579bf5"
      },
      "source": [
        "history_df.loc[history_df['date'] >= imput_for_datetime]"
      ],
      "execution_count": 70,
      "outputs": [
        {
          "output_type": "execute_result",
          "data": {
            "text/html": [
              "<div>\n",
              "<style scoped>\n",
              "    .dataframe tbody tr th:only-of-type {\n",
              "        vertical-align: middle;\n",
              "    }\n",
              "\n",
              "    .dataframe tbody tr th {\n",
              "        vertical-align: top;\n",
              "    }\n",
              "\n",
              "    .dataframe thead th {\n",
              "        text-align: right;\n",
              "    }\n",
              "</style>\n",
              "<table border=\"1\" class=\"dataframe\">\n",
              "  <thead>\n",
              "    <tr style=\"text-align: right;\">\n",
              "      <th></th>\n",
              "      <th>date</th>\n",
              "      <th>district</th>\n",
              "      <th>state</th>\n",
              "      <th>total.confirmed</th>\n",
              "      <th>total.deceased</th>\n",
              "      <th>total.recovered</th>\n",
              "      <th>delta.confirmed</th>\n",
              "      <th>delta.deceased</th>\n",
              "      <th>delta.recovered</th>\n",
              "      <th>delta.tested</th>\n",
              "      <th>total.tested</th>\n",
              "      <th>delta.other</th>\n",
              "      <th>total.other</th>\n",
              "    </tr>\n",
              "  </thead>\n",
              "  <tbody>\n",
              "    <tr>\n",
              "      <th>201</th>\n",
              "      <td>2020-09-15</td>\n",
              "      <td>Mumbai</td>\n",
              "      <td>MH</td>\n",
              "      <td>173596.0</td>\n",
              "      <td>8230.0</td>\n",
              "      <td>134066.0</td>\n",
              "      <td>1586.0</td>\n",
              "      <td>49.0</td>\n",
              "      <td>1719.0</td>\n",
              "      <td>NaN</td>\n",
              "      <td>925148.0</td>\n",
              "      <td>3.0</td>\n",
              "      <td>362.0</td>\n",
              "    </tr>\n",
              "    <tr>\n",
              "      <th>202</th>\n",
              "      <td>2020-09-16</td>\n",
              "      <td>Mumbai</td>\n",
              "      <td>MH</td>\n",
              "      <td>175974.0</td>\n",
              "      <td>8280.0</td>\n",
              "      <td>135563.0</td>\n",
              "      <td>2378.0</td>\n",
              "      <td>50.0</td>\n",
              "      <td>1497.0</td>\n",
              "      <td>39461.0</td>\n",
              "      <td>964609.0</td>\n",
              "      <td>3.0</td>\n",
              "      <td>365.0</td>\n",
              "    </tr>\n",
              "    <tr>\n",
              "      <th>203</th>\n",
              "      <td>2020-09-17</td>\n",
              "      <td>Mumbai</td>\n",
              "      <td>MH</td>\n",
              "      <td>178385.0</td>\n",
              "      <td>8323.0</td>\n",
              "      <td>136736.0</td>\n",
              "      <td>2411.0</td>\n",
              "      <td>43.0</td>\n",
              "      <td>1173.0</td>\n",
              "      <td>13113.0</td>\n",
              "      <td>977722.0</td>\n",
              "      <td>2.0</td>\n",
              "      <td>367.0</td>\n",
              "    </tr>\n",
              "    <tr>\n",
              "      <th>204</th>\n",
              "      <td>2020-09-18</td>\n",
              "      <td>Mumbai</td>\n",
              "      <td>MH</td>\n",
              "      <td>180668.0</td>\n",
              "      <td>8375.0</td>\n",
              "      <td>137664.0</td>\n",
              "      <td>2283.0</td>\n",
              "      <td>52.0</td>\n",
              "      <td>928.0</td>\n",
              "      <td>NaN</td>\n",
              "      <td>977722.0</td>\n",
              "      <td>3.0</td>\n",
              "      <td>370.0</td>\n",
              "    </tr>\n",
              "    <tr>\n",
              "      <th>205</th>\n",
              "      <td>2020-09-19</td>\n",
              "      <td>Mumbai</td>\n",
              "      <td>MH</td>\n",
              "      <td>180668.0</td>\n",
              "      <td>8375.0</td>\n",
              "      <td>137664.0</td>\n",
              "      <td>NaN</td>\n",
              "      <td>NaN</td>\n",
              "      <td>NaN</td>\n",
              "      <td>NaN</td>\n",
              "      <td>977722.0</td>\n",
              "      <td>NaN</td>\n",
              "      <td>370.0</td>\n",
              "    </tr>\n",
              "  </tbody>\n",
              "</table>\n",
              "</div>"
            ],
            "text/plain": [
              "          date district state  ...  total.tested  delta.other  total.other\n",
              "201 2020-09-15   Mumbai    MH  ...      925148.0          3.0        362.0\n",
              "202 2020-09-16   Mumbai    MH  ...      964609.0          3.0        365.0\n",
              "203 2020-09-17   Mumbai    MH  ...      977722.0          2.0        367.0\n",
              "204 2020-09-18   Mumbai    MH  ...      977722.0          3.0        370.0\n",
              "205 2020-09-19   Mumbai    MH  ...      977722.0          NaN        370.0\n",
              "\n",
              "[5 rows x 13 columns]"
            ]
          },
          "metadata": {
            "tags": []
          },
          "execution_count": 70
        }
      ]
    },
    {
      "cell_type": "code",
      "metadata": {
        "id": "B2vkRNnDRdHB",
        "colab_type": "code",
        "colab": {}
      },
      "source": [
        "imputing_for_df = history_df.loc[history_df['date'] == imput_for_datetime]"
      ],
      "execution_count": 54,
      "outputs": []
    },
    {
      "cell_type": "code",
      "metadata": {
        "id": "N2PvXkNcRvSy",
        "colab_type": "code",
        "colab": {}
      },
      "source": [
        "imput_with_datetime = datetime(2020, 9, 18, 0, 0, 0)"
      ],
      "execution_count": 61,
      "outputs": []
    },
    {
      "cell_type": "code",
      "metadata": {
        "id": "pIFe2HNbSC-i",
        "colab_type": "code",
        "colab": {
          "base_uri": "https://localhost:8080/",
          "height": 101
        },
        "outputId": "1356debd-8867-4992-f0fb-5a1f7902e810"
      },
      "source": [
        " history_df.loc[history_df['date'] == imput_with_datetime]"
      ],
      "execution_count": 62,
      "outputs": [
        {
          "output_type": "execute_result",
          "data": {
            "text/html": [
              "<div>\n",
              "<style scoped>\n",
              "    .dataframe tbody tr th:only-of-type {\n",
              "        vertical-align: middle;\n",
              "    }\n",
              "\n",
              "    .dataframe tbody tr th {\n",
              "        vertical-align: top;\n",
              "    }\n",
              "\n",
              "    .dataframe thead th {\n",
              "        text-align: right;\n",
              "    }\n",
              "</style>\n",
              "<table border=\"1\" class=\"dataframe\">\n",
              "  <thead>\n",
              "    <tr style=\"text-align: right;\">\n",
              "      <th></th>\n",
              "      <th>date</th>\n",
              "      <th>district</th>\n",
              "      <th>state</th>\n",
              "      <th>total.confirmed</th>\n",
              "      <th>total.deceased</th>\n",
              "      <th>total.recovered</th>\n",
              "      <th>delta.confirmed</th>\n",
              "      <th>delta.deceased</th>\n",
              "      <th>delta.recovered</th>\n",
              "      <th>delta.tested</th>\n",
              "      <th>total.tested</th>\n",
              "      <th>delta.other</th>\n",
              "      <th>total.other</th>\n",
              "    </tr>\n",
              "  </thead>\n",
              "  <tbody>\n",
              "    <tr>\n",
              "      <th>204</th>\n",
              "      <td>2020-09-18</td>\n",
              "      <td>Mumbai</td>\n",
              "      <td>MH</td>\n",
              "      <td>180668.0</td>\n",
              "      <td>8375.0</td>\n",
              "      <td>137664.0</td>\n",
              "      <td>2283.0</td>\n",
              "      <td>52.0</td>\n",
              "      <td>928.0</td>\n",
              "      <td>NaN</td>\n",
              "      <td>977722.0</td>\n",
              "      <td>3.0</td>\n",
              "      <td>370.0</td>\n",
              "    </tr>\n",
              "  </tbody>\n",
              "</table>\n",
              "</div>"
            ],
            "text/plain": [
              "          date district state  ...  total.tested  delta.other  total.other\n",
              "204 2020-09-18   Mumbai    MH  ...      977722.0          3.0        370.0\n",
              "\n",
              "[1 rows x 13 columns]"
            ]
          },
          "metadata": {
            "tags": []
          },
          "execution_count": 62
        }
      ]
    },
    {
      "cell_type": "code",
      "metadata": {
        "id": "REO7J2AqR-KW",
        "colab_type": "code",
        "colab": {}
      },
      "source": [
        "imputing_with_df = history_df.loc[history_df['date'] == imput_with_datetime]"
      ],
      "execution_count": 57,
      "outputs": []
    },
    {
      "cell_type": "code",
      "metadata": {
        "id": "NLSv6F-cVFqa",
        "colab_type": "code",
        "colab": {
          "base_uri": "https://localhost:8080/",
          "height": 101
        },
        "outputId": "90a69400-69ff-48db-8f46-7d9376fe7e87"
      },
      "source": [
        "imputing_with_df.head()"
      ],
      "execution_count": 71,
      "outputs": [
        {
          "output_type": "execute_result",
          "data": {
            "text/html": [
              "<div>\n",
              "<style scoped>\n",
              "    .dataframe tbody tr th:only-of-type {\n",
              "        vertical-align: middle;\n",
              "    }\n",
              "\n",
              "    .dataframe tbody tr th {\n",
              "        vertical-align: top;\n",
              "    }\n",
              "\n",
              "    .dataframe thead th {\n",
              "        text-align: right;\n",
              "    }\n",
              "</style>\n",
              "<table border=\"1\" class=\"dataframe\">\n",
              "  <thead>\n",
              "    <tr style=\"text-align: right;\">\n",
              "      <th></th>\n",
              "      <th>date</th>\n",
              "      <th>district</th>\n",
              "      <th>state</th>\n",
              "      <th>total.confirmed</th>\n",
              "      <th>total.deceased</th>\n",
              "      <th>total.recovered</th>\n",
              "      <th>delta.confirmed</th>\n",
              "      <th>delta.deceased</th>\n",
              "      <th>delta.recovered</th>\n",
              "      <th>delta.tested</th>\n",
              "      <th>total.tested</th>\n",
              "      <th>delta.other</th>\n",
              "      <th>total.other</th>\n",
              "    </tr>\n",
              "  </thead>\n",
              "  <tbody>\n",
              "    <tr>\n",
              "      <th>205</th>\n",
              "      <td>2020-09-19</td>\n",
              "      <td>Mumbai</td>\n",
              "      <td>MH</td>\n",
              "      <td>180668.0</td>\n",
              "      <td>8375.0</td>\n",
              "      <td>137664.0</td>\n",
              "      <td>NaN</td>\n",
              "      <td>NaN</td>\n",
              "      <td>NaN</td>\n",
              "      <td>NaN</td>\n",
              "      <td>977722.0</td>\n",
              "      <td>NaN</td>\n",
              "      <td>370.0</td>\n",
              "    </tr>\n",
              "  </tbody>\n",
              "</table>\n",
              "</div>"
            ],
            "text/plain": [
              "          date district state  ...  total.tested  delta.other  total.other\n",
              "205 2020-09-19   Mumbai    MH  ...      977722.0          NaN        370.0\n",
              "\n",
              "[1 rows x 13 columns]"
            ]
          },
          "metadata": {
            "tags": []
          },
          "execution_count": 71
        }
      ]
    },
    {
      "cell_type": "code",
      "metadata": {
        "id": "MfsislkzSEjU",
        "colab_type": "code",
        "colab": {}
      },
      "source": [
        "positive_daily_df['as_of'] = pandas.to_datetime(positive_daily_df['as_of'])  "
      ],
      "execution_count": 63,
      "outputs": []
    },
    {
      "cell_type": "code",
      "metadata": {
        "id": "GJyDXhYwS7yz",
        "colab_type": "code",
        "colab": {
          "base_uri": "https://localhost:8080/",
          "height": 802
        },
        "outputId": "5f659624-7170-4837-faaf-900fcb540718"
      },
      "source": [
        "positive_daily_df.loc[positive_daily_df['as_of'] == imput_with_datetime]"
      ],
      "execution_count": 64,
      "outputs": [
        {
          "output_type": "execute_result",
          "data": {
            "text/html": [
              "<div>\n",
              "<style scoped>\n",
              "    .dataframe tbody tr th:only-of-type {\n",
              "        vertical-align: middle;\n",
              "    }\n",
              "\n",
              "    .dataframe tbody tr th {\n",
              "        vertical-align: top;\n",
              "    }\n",
              "\n",
              "    .dataframe thead th {\n",
              "        text-align: right;\n",
              "    }\n",
              "</style>\n",
              "<table border=\"1\" class=\"dataframe\">\n",
              "  <thead>\n",
              "    <tr style=\"text-align: right;\">\n",
              "      <th></th>\n",
              "      <th>Ward_Name</th>\n",
              "      <th>Total_Positive_Cases</th>\n",
              "      <th>Total_Discharged</th>\n",
              "      <th>Total_Deaths</th>\n",
              "      <th>Total_Active</th>\n",
              "      <th>as_of</th>\n",
              "    </tr>\n",
              "  </thead>\n",
              "  <tbody>\n",
              "    <tr>\n",
              "      <th>0</th>\n",
              "      <td>RC</td>\n",
              "      <td>11106</td>\n",
              "      <td>8537</td>\n",
              "      <td>328</td>\n",
              "      <td>2241</td>\n",
              "      <td>2020-09-18</td>\n",
              "    </tr>\n",
              "    <tr>\n",
              "      <th>1</th>\n",
              "      <td>PN</td>\n",
              "      <td>10682</td>\n",
              "      <td>8667</td>\n",
              "      <td>392</td>\n",
              "      <td>1623</td>\n",
              "      <td>2020-09-18</td>\n",
              "    </tr>\n",
              "    <tr>\n",
              "      <th>2</th>\n",
              "      <td>KW</td>\n",
              "      <td>10638</td>\n",
              "      <td>8160</td>\n",
              "      <td>350</td>\n",
              "      <td>2128</td>\n",
              "      <td>2020-09-18</td>\n",
              "    </tr>\n",
              "    <tr>\n",
              "      <th>3</th>\n",
              "      <td>KE</td>\n",
              "      <td>10627</td>\n",
              "      <td>8254</td>\n",
              "      <td>576</td>\n",
              "      <td>1797</td>\n",
              "      <td>2020-09-18</td>\n",
              "    </tr>\n",
              "    <tr>\n",
              "      <th>4</th>\n",
              "      <td>GN</td>\n",
              "      <td>9788</td>\n",
              "      <td>7752</td>\n",
              "      <td>539</td>\n",
              "      <td>1497</td>\n",
              "      <td>2020-09-18</td>\n",
              "    </tr>\n",
              "    <tr>\n",
              "      <th>5</th>\n",
              "      <td>RS</td>\n",
              "      <td>9386</td>\n",
              "      <td>7115</td>\n",
              "      <td>275</td>\n",
              "      <td>1996</td>\n",
              "      <td>2020-09-18</td>\n",
              "    </tr>\n",
              "    <tr>\n",
              "      <th>6</th>\n",
              "      <td>S</td>\n",
              "      <td>9081</td>\n",
              "      <td>7264</td>\n",
              "      <td>499</td>\n",
              "      <td>1318</td>\n",
              "      <td>2020-09-18</td>\n",
              "    </tr>\n",
              "    <tr>\n",
              "      <th>7</th>\n",
              "      <td>N</td>\n",
              "      <td>8977</td>\n",
              "      <td>7134</td>\n",
              "      <td>438</td>\n",
              "      <td>1405</td>\n",
              "      <td>2020-09-18</td>\n",
              "    </tr>\n",
              "    <tr>\n",
              "      <th>8</th>\n",
              "      <td>T</td>\n",
              "      <td>8088</td>\n",
              "      <td>6165</td>\n",
              "      <td>202</td>\n",
              "      <td>1721</td>\n",
              "      <td>2020-09-18</td>\n",
              "    </tr>\n",
              "    <tr>\n",
              "      <th>9</th>\n",
              "      <td>D</td>\n",
              "      <td>7976</td>\n",
              "      <td>6318</td>\n",
              "      <td>277</td>\n",
              "      <td>1381</td>\n",
              "      <td>2020-09-18</td>\n",
              "    </tr>\n",
              "    <tr>\n",
              "      <th>10</th>\n",
              "      <td>FS</td>\n",
              "      <td>7717</td>\n",
              "      <td>6372</td>\n",
              "      <td>404</td>\n",
              "      <td>941</td>\n",
              "      <td>2020-09-18</td>\n",
              "    </tr>\n",
              "    <tr>\n",
              "      <th>11</th>\n",
              "      <td>GS</td>\n",
              "      <td>7211</td>\n",
              "      <td>5904</td>\n",
              "      <td>437</td>\n",
              "      <td>870</td>\n",
              "      <td>2020-09-18</td>\n",
              "    </tr>\n",
              "    <tr>\n",
              "      <th>12</th>\n",
              "      <td>L</td>\n",
              "      <td>6986</td>\n",
              "      <td>5780</td>\n",
              "      <td>475</td>\n",
              "      <td>731</td>\n",
              "      <td>2020-09-18</td>\n",
              "    </tr>\n",
              "    <tr>\n",
              "      <th>13</th>\n",
              "      <td>FN</td>\n",
              "      <td>6887</td>\n",
              "      <td>5246</td>\n",
              "      <td>339</td>\n",
              "      <td>1302</td>\n",
              "      <td>2020-09-18</td>\n",
              "    </tr>\n",
              "    <tr>\n",
              "      <th>14</th>\n",
              "      <td>E</td>\n",
              "      <td>6672</td>\n",
              "      <td>5355</td>\n",
              "      <td>325</td>\n",
              "      <td>992</td>\n",
              "      <td>2020-09-18</td>\n",
              "    </tr>\n",
              "    <tr>\n",
              "      <th>15</th>\n",
              "      <td>PS</td>\n",
              "      <td>6354</td>\n",
              "      <td>4940</td>\n",
              "      <td>266</td>\n",
              "      <td>1148</td>\n",
              "      <td>2020-09-18</td>\n",
              "    </tr>\n",
              "    <tr>\n",
              "      <th>16</th>\n",
              "      <td>ME</td>\n",
              "      <td>5855</td>\n",
              "      <td>4551</td>\n",
              "      <td>333</td>\n",
              "      <td>971</td>\n",
              "      <td>2020-09-18</td>\n",
              "    </tr>\n",
              "    <tr>\n",
              "      <th>17</th>\n",
              "      <td>HE</td>\n",
              "      <td>5777</td>\n",
              "      <td>4482</td>\n",
              "      <td>363</td>\n",
              "      <td>932</td>\n",
              "      <td>2020-09-18</td>\n",
              "    </tr>\n",
              "    <tr>\n",
              "      <th>18</th>\n",
              "      <td>HW</td>\n",
              "      <td>5492</td>\n",
              "      <td>4255</td>\n",
              "      <td>217</td>\n",
              "      <td>1020</td>\n",
              "      <td>2020-09-18</td>\n",
              "    </tr>\n",
              "    <tr>\n",
              "      <th>19</th>\n",
              "      <td>MW</td>\n",
              "      <td>5167</td>\n",
              "      <td>4044</td>\n",
              "      <td>316</td>\n",
              "      <td>807</td>\n",
              "      <td>2020-09-18</td>\n",
              "    </tr>\n",
              "    <tr>\n",
              "      <th>20</th>\n",
              "      <td>RN</td>\n",
              "      <td>5120</td>\n",
              "      <td>3803</td>\n",
              "      <td>176</td>\n",
              "      <td>1141</td>\n",
              "      <td>2020-09-18</td>\n",
              "    </tr>\n",
              "    <tr>\n",
              "      <th>21</th>\n",
              "      <td>A</td>\n",
              "      <td>4422</td>\n",
              "      <td>3670</td>\n",
              "      <td>78</td>\n",
              "      <td>674</td>\n",
              "      <td>2020-09-18</td>\n",
              "    </tr>\n",
              "    <tr>\n",
              "      <th>22</th>\n",
              "      <td>C</td>\n",
              "      <td>2546</td>\n",
              "      <td>2079</td>\n",
              "      <td>110</td>\n",
              "      <td>357</td>\n",
              "      <td>2020-09-18</td>\n",
              "    </tr>\n",
              "    <tr>\n",
              "      <th>23</th>\n",
              "      <td>B</td>\n",
              "      <td>1520</td>\n",
              "      <td>1169</td>\n",
              "      <td>97</td>\n",
              "      <td>254</td>\n",
              "      <td>2020-09-18</td>\n",
              "    </tr>\n",
              "  </tbody>\n",
              "</table>\n",
              "</div>"
            ],
            "text/plain": [
              "   Ward_Name  Total_Positive_Cases  ...  Total_Active      as_of\n",
              "0         RC                 11106  ...          2241 2020-09-18\n",
              "1         PN                 10682  ...          1623 2020-09-18\n",
              "2         KW                 10638  ...          2128 2020-09-18\n",
              "3         KE                 10627  ...          1797 2020-09-18\n",
              "4         GN                  9788  ...          1497 2020-09-18\n",
              "5         RS                  9386  ...          1996 2020-09-18\n",
              "6          S                  9081  ...          1318 2020-09-18\n",
              "7          N                  8977  ...          1405 2020-09-18\n",
              "8          T                  8088  ...          1721 2020-09-18\n",
              "9          D                  7976  ...          1381 2020-09-18\n",
              "10        FS                  7717  ...           941 2020-09-18\n",
              "11        GS                  7211  ...           870 2020-09-18\n",
              "12         L                  6986  ...           731 2020-09-18\n",
              "13        FN                  6887  ...          1302 2020-09-18\n",
              "14         E                  6672  ...           992 2020-09-18\n",
              "15        PS                  6354  ...          1148 2020-09-18\n",
              "16        ME                  5855  ...           971 2020-09-18\n",
              "17        HE                  5777  ...           932 2020-09-18\n",
              "18        HW                  5492  ...          1020 2020-09-18\n",
              "19        MW                  5167  ...           807 2020-09-18\n",
              "20        RN                  5120  ...          1141 2020-09-18\n",
              "21         A                  4422  ...           674 2020-09-18\n",
              "22         C                  2546  ...           357 2020-09-18\n",
              "23         B                  1520  ...           254 2020-09-18\n",
              "\n",
              "[24 rows x 6 columns]"
            ]
          },
          "metadata": {
            "tags": []
          },
          "execution_count": 64
        }
      ]
    },
    {
      "cell_type": "code",
      "metadata": {
        "id": "efeJ1WCqTIs9",
        "colab_type": "code",
        "colab": {}
      },
      "source": [
        "positive_daily_for_impute = positive_daily_df.loc[positive_daily_df['as_of'] == imput_with_datetime] "
      ],
      "execution_count": 65,
      "outputs": []
    },
    {
      "cell_type": "code",
      "metadata": {
        "id": "tMEM4kXOTPAJ",
        "colab_type": "code",
        "colab": {
          "base_uri": "https://localhost:8080/",
          "height": 54
        },
        "outputId": "671b6113-e4ae-436a-d6f1-ec53e94bf49f"
      },
      "source": [
        "sum(positive_daily_for_impute['Total_Deaths']) - imputing_with_df['total.deceased']"
      ],
      "execution_count": 69,
      "outputs": [
        {
          "output_type": "execute_result",
          "data": {
            "text/plain": [
              "205   -563.0\n",
              "Name: total.deceased, dtype: float64"
            ]
          },
          "metadata": {
            "tags": []
          },
          "execution_count": 69
        }
      ]
    },
    {
      "cell_type": "markdown",
      "metadata": {
        "id": "ZfT6cItZHEP9",
        "colab_type": "text"
      },
      "source": [
        "It seems that the totals don't match and may not match for any date.\n",
        "\n",
        "This may be due to the fact that the data for covid19india.org is imputed manually.\n",
        "\n",
        "Volunteers watch these tweets: https://github.com/covid19india/api/blob/gh-pages/twitter_queries.json, volunteers are notified by telegram with: https://t.me/joinchat/AAAAAEaLHEFoki9jPObvAQ and the they add those numbers to the google spreadsheets from which the covid19api.org takes its values.\n",
        "\n",
        "That may explain why there's a difference."
      ]
    }
  ]
}